{
 "cells": [
  {
   "cell_type": "code",
   "execution_count": 18,
   "metadata": {},
   "outputs": [],
   "source": [
    "import numpy as np\n",
    "import cv2\n"
   ]
  },
  {
   "cell_type": "code",
   "execution_count": 19,
   "metadata": {},
   "outputs": [],
   "source": [
    "img= cv2.imread('beach.jpg')\n",
    "\n",
    "img3= cv2.blur(img,(3,3)) # average blur\n",
    "# img7= cv2.GaussianBlur(img,(7,7),0) # Gaussian blur\n",
    "# img3= cv2.medianBlur(img,3) # median Blur\n",
    "\n"
   ]
  },
  {
   "cell_type": "code",
   "execution_count": 20,
   "metadata": {},
   "outputs": [],
   "source": [
    "a= cv2.imshow('orignal',img)\n",
    "# a= cv2.imshow('blur',img_blur)\n",
    "# cv2.imshow('beach3',img3)\n",
    "cv2.waitKey()\n",
    "cv2.destroyAllWindows()\n"
   ]
  },
  {
   "cell_type": "code",
   "execution_count": 21,
   "metadata": {},
   "outputs": [],
   "source": [
    "# img=cv2.imread('picture.png')"
   ]
  },
  {
   "cell_type": "code",
   "execution_count": 22,
   "metadata": {},
   "outputs": [],
   "source": [
    "# img_blur = cv2.medianBlur(img,5)"
   ]
  },
  {
   "cell_type": "markdown",
   "metadata": {},
   "source": [
    "### Pencil sketch "
   ]
  },
  {
   "cell_type": "code",
   "execution_count": 23,
   "metadata": {},
   "outputs": [],
   "source": [
    "def Pencil_sketch (img, ksize, gamma):\n",
    "    gary_img = cv2.cvtColor(img,cv2.COLOR_BGR2GRAY)\n",
    "    blur = cv2.GaussianBlur(gary_img,(ksize,ksize),0)\n",
    "    division = cv2.divide(gary_img,blur,scale=256)\n",
    "\n",
    "    if gamma == 0:\n",
    "        gamma = 0.01\n",
    "    elif gamma <0:\n",
    "        raise Exception('can not be a value less than zero ')\n",
    "    elif gamma >1:\n",
    "        raise Exception('can not a value greater that one it should be in range(0-1)')\n",
    "\n",
    "    invgamma = 1/gamma\n",
    "    lut = np.array([((i/255)**invgamma)*255 for i in range(0,256)])\n",
    "    sketch = cv2.LUT(division.astype('uint8'),lut.astype('uint8'))\n",
    "    return sketch\n",
    "\n",
    "    # try:\n",
    "    #     a=1+'a'\n",
    "    # except Exception as e:\n",
    "    #     print(e.args)"
   ]
  },
  {
   "cell_type": "code",
   "execution_count": 24,
   "metadata": {},
   "outputs": [],
   "source": [
    "sketch = Pencil_sketch(img,5,0.1)\n",
    "\n",
    "cv2.imshow('Pencile_Sketch',sketch)\n",
    "cv2.waitKey()\n",
    "cv2.destroyAllWindows()"
   ]
  },
  {
   "cell_type": "code",
   "execution_count": 25,
   "metadata": {},
   "outputs": [
    {
     "name": "stdout",
     "output_type": "stream",
     "text": [
      "3 0.01\n",
      "3 0.01\n",
      "3 0.01\n",
      "3 0.01\n",
      "3 0.01\n",
      "3 0.01\n",
      "3 0.01\n",
      "3 0.01\n",
      "3 0.01\n",
      "3 0.01\n",
      "3 0.01\n",
      "3 0.01\n",
      "3 0.01\n",
      "3 0.01\n",
      "3 0.01\n",
      "3 0.01\n",
      "3 0.01\n",
      "3 0.01\n",
      "3 0.01\n",
      "3 0.01\n",
      "3 0.01\n",
      "3 0.01\n",
      "3 0.01\n",
      "3 0.01\n",
      "3 0.01\n",
      "3 0.01\n",
      "3 0.01\n",
      "3 0.01\n",
      "3 0.01\n",
      "3 0.01\n",
      "3 0.01\n",
      "3 0.01\n",
      "3 0.01\n",
      "3 0.01\n",
      "3 0.01\n",
      "3 0.01\n",
      "3 0.01\n",
      "3 0.01\n",
      "3 0.01\n",
      "3 0.01\n",
      "3 0.01\n",
      "3 0.01\n",
      "3 0.01\n",
      "3 0.01\n",
      "3 0.01\n",
      "3 0.01\n",
      "3 0.01\n",
      "3 0.01\n",
      "3 0.01\n"
     ]
    }
   ],
   "source": [
    "cv2.namedWindow('Window')\n",
    "cv2.createTrackbar('ksize','Window',1,100,lambda x:x)\n",
    "cv2.createTrackbar('gamma','Window',1,100,lambda x:x)\n",
    "\n",
    "while True:\n",
    "    \n",
    "    k_=cv2.getTrackbarPos('ksize','Window')\n",
    "    k=2*k_ + 1\n",
    "    \n",
    "    g_ = cv2.getTrackbarPos('gamma','Window')\n",
    "    g= g_/100\n",
    "    print(k,g)\n",
    "    pencil = Pencil_sketch(img,k,g)\n",
    "\n",
    "    # cv2.imshow('Pencile_Sketch',img)\n",
    "    cv2.imshow('Pencile',pencil)\n",
    "\n",
    "    if cv2.waitKey(1)!= -1:\n",
    "        break\n",
    "    \n",
    "# sketch = Pencil_sketch(img,1,0.1)\n",
    "cv2.waitKey()\n",
    "cv2.destroyAllWindows()\n",
    "\n",
    "\n"
   ]
  },
  {
   "cell_type": "code",
   "execution_count": 26,
   "metadata": {},
   "outputs": [],
   "source": [
    "im = cv2.imread('car.jpg')\n",
    "\n"
   ]
  },
  {
   "cell_type": "code",
   "execution_count": 27,
   "metadata": {},
   "outputs": [],
   "source": [
    "center = (im.shape[1]//2,im.shape[0]//2)\n",
    "M = cv2.getRotationMatrix2D(center,45,1)\n",
    "rotate_45 = cv2.warpAffine(im,M,(im.shape[1],im.shape[0]))"
   ]
  },
  {
   "cell_type": "code",
   "execution_count": 28,
   "metadata": {},
   "outputs": [],
   "source": [
    "\n",
    "cv2.imshow('imgg',rotate_45)\n",
    "# cv2.imshow('orignal',img_blur)\n",
    "cv2.waitKey()\n",
    "cv2.destroyAllWindows()"
   ]
  },
  {
   "cell_type": "code",
   "execution_count": null,
   "metadata": {},
   "outputs": [],
   "source": [
    "rotate_45[rotate_45<3]=255"
   ]
  },
  {
   "cell_type": "code",
   "execution_count": null,
   "metadata": {},
   "outputs": [],
   "source": [
    "# cv2.imwrite('My_pic.jpg',rotate_45)"
   ]
  },
  {
   "cell_type": "code",
   "execution_count": null,
   "metadata": {},
   "outputs": [],
   "source": []
  }
 ],
 "metadata": {
  "interpreter": {
   "hash": "11e4f431d9f4ca25019afdd815f68cb7830df17d42868ab8fdcc67f96c0b156b"
  },
  "kernelspec": {
   "display_name": "Python 3.7.0 64-bit",
   "language": "python",
   "name": "python3"
  },
  "language_info": {
   "codemirror_mode": {
    "name": "ipython",
    "version": 3
   },
   "file_extension": ".py",
   "mimetype": "text/x-python",
   "name": "python",
   "nbconvert_exporter": "python",
   "pygments_lexer": "ipython3",
   "version": "3.7.0"
  },
  "orig_nbformat": 4
 },
 "nbformat": 4,
 "nbformat_minor": 2
}
